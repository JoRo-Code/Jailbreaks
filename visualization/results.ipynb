{
 "cells": [
  {
   "cell_type": "code",
   "execution_count": null,
   "metadata": {},
   "outputs": [],
   "source": [
    "2:59\n",
    "4:57\n",
    "2:14\n",
    "2:17\n",
    "4:05\n",
    "4:07"
   ]
  },
  {
   "cell_type": "code",
   "execution_count": 1,
   "metadata": {},
   "outputs": [
    {
     "name": "stdout",
     "output_type": "stream",
     "text": [
      "Times in seconds: [179, 297, 134, 137, 245, 247]\n",
      "Average (seconds): 206.50\n",
      "Average (min:sec): 3:26\n",
      "Standard deviation (seconds): 60.77\n"
     ]
    }
   ],
   "source": [
    "# Convert time strings to seconds\n",
    "times_str = [\n",
    "    \"2:59\",\n",
    "    \"4:57\",\n",
    "    \"2:14\",\n",
    "    \"2:17\",\n",
    "    \"4:05\",\n",
    "    \"4:07\"\n",
    "]\n",
    "\n",
    "# Convert each time to total seconds\n",
    "times_seconds = []\n",
    "for time_str in times_str:\n",
    "    minutes, seconds = map(int, time_str.split(':'))\n",
    "    total_seconds = minutes * 60 + seconds\n",
    "    times_seconds.append(total_seconds)\n",
    "\n",
    "# Calculate average in seconds\n",
    "import numpy as np\n",
    "avg_seconds = np.mean(times_seconds)\n",
    "\n",
    "# Calculate standard deviation in seconds\n",
    "std_seconds = np.std(times_seconds)\n",
    "\n",
    "# Convert average back to minutes:seconds format\n",
    "avg_minutes = int(avg_seconds // 60)\n",
    "avg_remaining_seconds = int(avg_seconds % 60)\n",
    "avg_time_str = f\"{avg_minutes}:{avg_remaining_seconds:02d}\"\n",
    "\n",
    "# Print results\n",
    "print(f\"Times in seconds: {times_seconds}\")\n",
    "print(f\"Average (seconds): {avg_seconds:.2f}\")\n",
    "print(f\"Average (min:sec): {avg_time_str}\")\n",
    "print(f\"Standard deviation (seconds): {std_seconds:.2f}\")"
   ]
  },
  {
   "cell_type": "code",
   "execution_count": 4,
   "metadata": {},
   "outputs": [
    {
     "name": "stdout",
     "output_type": "stream",
     "text": [
      "Times in seconds: [179, 297, 134, 137, 245, 247]\n",
      "Average (seconds): 206.50\n",
      "Average (min:sec): 3:26\n",
      "Standard deviation (seconds): 60.77\n",
      "95% Confidence Interval (seconds): (106.47, 306.53)\n",
      "95% Confidence Interval (min:sec): (1:46, 5:06)\n"
     ]
    }
   ],
   "source": [
    "# Convert time strings to seconds\n",
    "times_str = [\n",
    "    \"2:59\",\n",
    "    \"4:57\",\n",
    "    \"2:14\",\n",
    "    \"2:17\",\n",
    "    \"4:05\",\n",
    "    \"4:07\"\n",
    "]\n",
    "\n",
    "# Convert each time to total seconds\n",
    "times_seconds = []\n",
    "for time_str in times_str:\n",
    "    minutes, seconds = map(int, time_str.split(':'))\n",
    "    total_seconds = minutes * 60 + seconds\n",
    "    times_seconds.append(total_seconds)\n",
    "\n",
    "# Calculate average in seconds\n",
    "import numpy as np\n",
    "from scipy import stats\n",
    "avg_seconds = np.mean(times_seconds)\n",
    "\n",
    "# Calculate standard deviation in seconds\n",
    "std_seconds = np.std(times_seconds)\n",
    "\n",
    "# Calculate 95% confidence interval\n",
    "n = len(times_seconds)\n",
    "confidence = 0.99\n",
    "degrees_freedom = n - 1\n",
    "t_value = stats.t.ppf((1 + confidence) / 2, degrees_freedom)\n",
    "margin_of_error = t_value * (std_seconds / np.sqrt(n))\n",
    "ci_lower = avg_seconds - margin_of_error\n",
    "ci_upper = avg_seconds + margin_of_error\n",
    "\n",
    "# Convert average back to minutes:seconds format\n",
    "avg_minutes = int(avg_seconds // 60)\n",
    "avg_remaining_seconds = int(avg_seconds % 60)\n",
    "avg_time_str = f\"{avg_minutes}:{avg_remaining_seconds:02d}\"\n",
    "\n",
    "# Convert confidence interval bounds to minutes:seconds format\n",
    "ci_lower_minutes = int(ci_lower // 60)\n",
    "ci_lower_seconds = int(ci_lower % 60)\n",
    "ci_lower_str = f\"{ci_lower_minutes}:{ci_lower_seconds:02d}\"\n",
    "\n",
    "ci_upper_minutes = int(ci_upper // 60)\n",
    "ci_upper_seconds = int(ci_upper % 60)\n",
    "ci_upper_str = f\"{ci_upper_minutes}:{ci_upper_seconds:02d}\"\n",
    "\n",
    "# Print results\n",
    "print(f\"Times in seconds: {times_seconds}\")\n",
    "print(f\"Average (seconds): {avg_seconds:.2f}\")\n",
    "print(f\"Average (min:sec): {avg_time_str}\")\n",
    "print(f\"Standard deviation (seconds): {std_seconds:.2f}\")\n",
    "print(f\"95% Confidence Interval (seconds): ({ci_lower:.2f}, {ci_upper:.2f})\")\n",
    "print(f\"95% Confidence Interval (min:sec): ({ci_lower_str}, {ci_upper_str})\")"
   ]
  },
  {
   "cell_type": "code",
   "execution_count": 7,
   "metadata": {},
   "outputs": [
    {
     "name": "stdout",
     "output_type": "stream",
     "text": [
      "1: 40\n"
     ]
    }
   ],
   "source": [
    "print(f\"{int(margin_of_error // 60)}: {int(margin_of_error % 60)}\")"
   ]
  },
  {
   "cell_type": "code",
   "execution_count": null,
   "metadata": {},
   "outputs": [],
   "source": []
  }
 ],
 "metadata": {
  "kernelspec": {
   "display_name": ".venv",
   "language": "python",
   "name": "python3"
  },
  "language_info": {
   "codemirror_mode": {
    "name": "ipython",
    "version": 3
   },
   "file_extension": ".py",
   "mimetype": "text/x-python",
   "name": "python",
   "nbconvert_exporter": "python",
   "pygments_lexer": "ipython3",
   "version": "3.11.6"
  }
 },
 "nbformat": 4,
 "nbformat_minor": 2
}
